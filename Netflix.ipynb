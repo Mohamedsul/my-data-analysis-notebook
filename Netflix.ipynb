{
 "cells": [
  {
   "cell_type": "markdown",
   "metadata": {},
   "source": [
    "# Analyzing Netflix Content Data for Insight\n"
   ]
  },
  {
   "cell_type": "markdown",
   "metadata": {},
   "source": [
    "### Introduction to the Notebook:\n",
    "In this notebook, we will Analyze Netflix content data to extract insights about the types of content (Movies/TV Shows), trends across time, top-rated genres, and content popularity by country\n",
    "\n"
   ]
  },
  {
   "cell_type": "markdown",
   "metadata": {},
   "source": [
    "### Step 1: Set up the environment\n",
    "\n",
    "Importing necessary librarie and our data"
   ]
  },
  {
   "cell_type": "code",
   "execution_count": 950,
   "metadata": {},
   "outputs": [
    {
     "name": "stdout",
     "output_type": "stream",
     "text": [
      "the first 5 rows of the dataset are :\n"
     ]
    },
    {
     "data": {
      "text/html": [
       "<div>\n",
       "<style scoped>\n",
       "    .dataframe tbody tr th:only-of-type {\n",
       "        vertical-align: middle;\n",
       "    }\n",
       "\n",
       "    .dataframe tbody tr th {\n",
       "        vertical-align: top;\n",
       "    }\n",
       "\n",
       "    .dataframe thead th {\n",
       "        text-align: right;\n",
       "    }\n",
       "</style>\n",
       "<table border=\"1\" class=\"dataframe\">\n",
       "  <thead>\n",
       "    <tr style=\"text-align: right;\">\n",
       "      <th></th>\n",
       "      <th>show_id</th>\n",
       "      <th>type</th>\n",
       "      <th>title</th>\n",
       "      <th>director</th>\n",
       "      <th>cast</th>\n",
       "      <th>country</th>\n",
       "      <th>date_added</th>\n",
       "      <th>release_year</th>\n",
       "      <th>rating</th>\n",
       "      <th>duration</th>\n",
       "      <th>listed_in</th>\n",
       "      <th>description</th>\n",
       "    </tr>\n",
       "  </thead>\n",
       "  <tbody>\n",
       "    <tr>\n",
       "      <th>0</th>\n",
       "      <td>s1</td>\n",
       "      <td>Movie</td>\n",
       "      <td>Dick Johnson Is Dead</td>\n",
       "      <td>Kirsten Johnson</td>\n",
       "      <td>NaN</td>\n",
       "      <td>United States</td>\n",
       "      <td>September 25, 2021</td>\n",
       "      <td>2020</td>\n",
       "      <td>PG-13</td>\n",
       "      <td>90 min</td>\n",
       "      <td>Documentaries</td>\n",
       "      <td>As her father nears the end of his life, filmm...</td>\n",
       "    </tr>\n",
       "    <tr>\n",
       "      <th>1</th>\n",
       "      <td>s2</td>\n",
       "      <td>TV Show</td>\n",
       "      <td>Blood &amp; Water</td>\n",
       "      <td>NaN</td>\n",
       "      <td>Ama Qamata, Khosi Ngema, Gail Mabalane, Thaban...</td>\n",
       "      <td>South Africa</td>\n",
       "      <td>September 24, 2021</td>\n",
       "      <td>2021</td>\n",
       "      <td>TV-MA</td>\n",
       "      <td>2 Seasons</td>\n",
       "      <td>International TV Shows, TV Dramas, TV Mysteries</td>\n",
       "      <td>After crossing paths at a party, a Cape Town t...</td>\n",
       "    </tr>\n",
       "    <tr>\n",
       "      <th>2</th>\n",
       "      <td>s3</td>\n",
       "      <td>TV Show</td>\n",
       "      <td>Ganglands</td>\n",
       "      <td>Julien Leclercq</td>\n",
       "      <td>Sami Bouajila, Tracy Gotoas, Samuel Jouy, Nabi...</td>\n",
       "      <td>NaN</td>\n",
       "      <td>September 24, 2021</td>\n",
       "      <td>2021</td>\n",
       "      <td>TV-MA</td>\n",
       "      <td>1 Season</td>\n",
       "      <td>Crime TV Shows, International TV Shows, TV Act...</td>\n",
       "      <td>To protect his family from a powerful drug lor...</td>\n",
       "    </tr>\n",
       "    <tr>\n",
       "      <th>3</th>\n",
       "      <td>s4</td>\n",
       "      <td>TV Show</td>\n",
       "      <td>Jailbirds New Orleans</td>\n",
       "      <td>NaN</td>\n",
       "      <td>NaN</td>\n",
       "      <td>NaN</td>\n",
       "      <td>September 24, 2021</td>\n",
       "      <td>2021</td>\n",
       "      <td>TV-MA</td>\n",
       "      <td>1 Season</td>\n",
       "      <td>Docuseries, Reality TV</td>\n",
       "      <td>Feuds, flirtations and toilet talk go down amo...</td>\n",
       "    </tr>\n",
       "    <tr>\n",
       "      <th>4</th>\n",
       "      <td>s5</td>\n",
       "      <td>TV Show</td>\n",
       "      <td>Kota Factory</td>\n",
       "      <td>NaN</td>\n",
       "      <td>Mayur More, Jitendra Kumar, Ranjan Raj, Alam K...</td>\n",
       "      <td>India</td>\n",
       "      <td>September 24, 2021</td>\n",
       "      <td>2021</td>\n",
       "      <td>TV-MA</td>\n",
       "      <td>2 Seasons</td>\n",
       "      <td>International TV Shows, Romantic TV Shows, TV ...</td>\n",
       "      <td>In a city of coaching centers known to train I...</td>\n",
       "    </tr>\n",
       "  </tbody>\n",
       "</table>\n",
       "</div>"
      ],
      "text/plain": [
       "  show_id     type                  title         director  \\\n",
       "0      s1    Movie   Dick Johnson Is Dead  Kirsten Johnson   \n",
       "1      s2  TV Show          Blood & Water              NaN   \n",
       "2      s3  TV Show              Ganglands  Julien Leclercq   \n",
       "3      s4  TV Show  Jailbirds New Orleans              NaN   \n",
       "4      s5  TV Show           Kota Factory              NaN   \n",
       "\n",
       "                                                cast        country  \\\n",
       "0                                                NaN  United States   \n",
       "1  Ama Qamata, Khosi Ngema, Gail Mabalane, Thaban...   South Africa   \n",
       "2  Sami Bouajila, Tracy Gotoas, Samuel Jouy, Nabi...            NaN   \n",
       "3                                                NaN            NaN   \n",
       "4  Mayur More, Jitendra Kumar, Ranjan Raj, Alam K...          India   \n",
       "\n",
       "           date_added  release_year rating   duration  \\\n",
       "0  September 25, 2021          2020  PG-13     90 min   \n",
       "1  September 24, 2021          2021  TV-MA  2 Seasons   \n",
       "2  September 24, 2021          2021  TV-MA   1 Season   \n",
       "3  September 24, 2021          2021  TV-MA   1 Season   \n",
       "4  September 24, 2021          2021  TV-MA  2 Seasons   \n",
       "\n",
       "                                           listed_in  \\\n",
       "0                                      Documentaries   \n",
       "1    International TV Shows, TV Dramas, TV Mysteries   \n",
       "2  Crime TV Shows, International TV Shows, TV Act...   \n",
       "3                             Docuseries, Reality TV   \n",
       "4  International TV Shows, Romantic TV Shows, TV ...   \n",
       "\n",
       "                                         description  \n",
       "0  As her father nears the end of his life, filmm...  \n",
       "1  After crossing paths at a party, a Cape Town t...  \n",
       "2  To protect his family from a powerful drug lor...  \n",
       "3  Feuds, flirtations and toilet talk go down amo...  \n",
       "4  In a city of coaching centers known to train I...  "
      ]
     },
     "execution_count": 950,
     "metadata": {},
     "output_type": "execute_result"
    }
   ],
   "source": [
    "import pandas as pd\n",
    "import numpy as np\n",
    "import matplotlib.pyplot as plt\n",
    "import seaborn as sns\n",
    "\n",
    "\n",
    "Netflix = pd.read_csv(r'C:\\Users\\Mohsu\\Desktop\\python workspace\\Netflix Movies and TV Shows\\netflix_titles.csv')\n",
    "print('the first 5 rows of the dataset are :')\n",
    "Netflix.head()"
   ]
  },
  {
   "cell_type": "code",
   "execution_count": 951,
   "metadata": {},
   "outputs": [
    {
     "name": "stdout",
     "output_type": "stream",
     "text": [
      "the information of the dataset is :\n",
      "<class 'pandas.core.frame.DataFrame'>\n",
      "RangeIndex: 8807 entries, 0 to 8806\n",
      "Data columns (total 12 columns):\n",
      " #   Column        Non-Null Count  Dtype \n",
      "---  ------        --------------  ----- \n",
      " 0   show_id       8807 non-null   object\n",
      " 1   type          8807 non-null   object\n",
      " 2   title         8807 non-null   object\n",
      " 3   director      6173 non-null   object\n",
      " 4   cast          7982 non-null   object\n",
      " 5   country       7976 non-null   object\n",
      " 6   date_added    8797 non-null   object\n",
      " 7   release_year  8807 non-null   int64 \n",
      " 8   rating        8803 non-null   object\n",
      " 9   duration      8804 non-null   object\n",
      " 10  listed_in     8807 non-null   object\n",
      " 11  description   8807 non-null   object\n",
      "dtypes: int64(1), object(11)\n",
      "memory usage: 825.8+ KB\n"
     ]
    }
   ],
   "source": [
    "print('the information of the dataset is :')\n",
    "Netflix.info()"
   ]
  },
  {
   "cell_type": "markdown",
   "metadata": {},
   "source": [
    "### Step 2: Data Cleaning and Preprocessing"
   ]
  },
  {
   "cell_type": "markdown",
   "metadata": {},
   "source": [
    "Now we know from the data information the missing data , the missing data :\n",
    "\n",
    "- director : 2634 missing values .\n",
    "- cast : 825 missing values .\n",
    "- country : 831 missing values .\n",
    "- date_added : 10 missing values .\n",
    "- rating : 4 missing values .\n",
    "- duration : 3 missing values . "
   ]
  },
  {
   "cell_type": "code",
   "execution_count": 952,
   "metadata": {},
   "outputs": [
    {
     "name": "stdout",
     "output_type": "stream",
     "text": [
      "the information of the dataset is :\n",
      "<class 'pandas.core.frame.DataFrame'>\n",
      "Index: 8709 entries, 0 to 8806\n",
      "Data columns (total 12 columns):\n",
      " #   Column        Non-Null Count  Dtype         \n",
      "---  ------        --------------  -----         \n",
      " 0   show_id       8709 non-null   object        \n",
      " 1   type          8709 non-null   object        \n",
      " 2   title         8709 non-null   object        \n",
      " 3   director      8709 non-null   object        \n",
      " 4   cast          8709 non-null   object        \n",
      " 5   country       8709 non-null   object        \n",
      " 6   date_added    8709 non-null   datetime64[ns]\n",
      " 7   release_year  8709 non-null   int64         \n",
      " 8   rating        8709 non-null   object        \n",
      " 9   duration      8709 non-null   object        \n",
      " 10  listed_in     8709 non-null   object        \n",
      " 11  description   8709 non-null   object        \n",
      "dtypes: datetime64[ns](1), int64(1), object(10)\n",
      "memory usage: 884.5+ KB\n"
     ]
    }
   ],
   "source": [
    "# filling the missing values\n",
    "Netflix['director'] = Netflix['director'].fillna('Unknown')\n",
    "Netflix['cast'] = Netflix['cast'].fillna('Unknown')\n",
    "Netflix['country'] = Netflix['country'].fillna('Unknown')\n",
    "Netflix['rating'] = Netflix['rating'].fillna('Not Rated')\n",
    "Netflix['duration'] = Netflix['duration'].fillna('Unknown')\n",
    "\n",
    " \n",
    "# converting the date_added to datetime  \n",
    "Netflix['date_added'] = pd.to_datetime(Netflix['date_added'], errors='coerce')\n",
    "\n",
    "# dropping the missing values in the date_added column  \n",
    "Netflix = Netflix.dropna(subset=['date_added'])\n",
    "\n",
    "\n",
    "\n",
    "print('the information of the dataset is :')\n",
    "Netflix.info()"
   ]
  },
  {
   "cell_type": "code",
   "execution_count": 953,
   "metadata": {},
   "outputs": [
    {
     "name": "stdout",
     "output_type": "stream",
     "text": [
      "the information of the dataset is :\n",
      "<class 'pandas.core.frame.DataFrame'>\n",
      "Index: 8709 entries, 0 to 8806\n",
      "Data columns (total 13 columns):\n",
      " #   Column        Non-Null Count  Dtype \n",
      "---  ------        --------------  ----- \n",
      " 0   show_id       8709 non-null   object\n",
      " 1   type          8709 non-null   object\n",
      " 2   title         8709 non-null   object\n",
      " 3   director      8709 non-null   object\n",
      " 4   cast          8709 non-null   object\n",
      " 5   country       8709 non-null   object\n",
      " 6   release_year  8709 non-null   int64 \n",
      " 7   rating        8709 non-null   object\n",
      " 8   duration      8709 non-null   object\n",
      " 9   listed_in     8709 non-null   object\n",
      " 10  description   8709 non-null   object\n",
      " 11  year_added    8709 non-null   int32 \n",
      " 12  month_added   8709 non-null   int32 \n",
      "dtypes: int32(2), int64(1), object(10)\n",
      "memory usage: 884.5+ KB\n"
     ]
    }
   ],
   "source": [
    "\n",
    "# extracting the year and month from the date_added\n",
    "Netflix['year_added'] = Netflix['date_added'].dt.year\n",
    "Netflix['month_added'] = Netflix['date_added'].dt.month\n",
    "\n",
    "# dropping the date_added column\n",
    "Netflix = Netflix.drop(columns=['date_added'])\n",
    "\n",
    "print('the information of the dataset is :')\n",
    "Netflix.info()"
   ]
  },
  {
   "cell_type": "code",
   "execution_count": 954,
   "metadata": {},
   "outputs": [
    {
     "name": "stdout",
     "output_type": "stream",
     "text": [
      "the first 5 rows of the dataset are :\n"
     ]
    },
    {
     "data": {
      "text/html": [
       "<div>\n",
       "<style scoped>\n",
       "    .dataframe tbody tr th:only-of-type {\n",
       "        vertical-align: middle;\n",
       "    }\n",
       "\n",
       "    .dataframe tbody tr th {\n",
       "        vertical-align: top;\n",
       "    }\n",
       "\n",
       "    .dataframe thead th {\n",
       "        text-align: right;\n",
       "    }\n",
       "</style>\n",
       "<table border=\"1\" class=\"dataframe\">\n",
       "  <thead>\n",
       "    <tr style=\"text-align: right;\">\n",
       "      <th></th>\n",
       "      <th>show_id</th>\n",
       "      <th>type</th>\n",
       "      <th>title</th>\n",
       "      <th>director</th>\n",
       "      <th>cast</th>\n",
       "      <th>country</th>\n",
       "      <th>release_year</th>\n",
       "      <th>rating</th>\n",
       "      <th>duration</th>\n",
       "      <th>listed_in</th>\n",
       "      <th>description</th>\n",
       "      <th>year_added</th>\n",
       "      <th>month_added</th>\n",
       "    </tr>\n",
       "  </thead>\n",
       "  <tbody>\n",
       "    <tr>\n",
       "      <th>0</th>\n",
       "      <td>s1</td>\n",
       "      <td>Movie</td>\n",
       "      <td>Dick Johnson Is Dead</td>\n",
       "      <td>Kirsten Johnson</td>\n",
       "      <td>Unknown</td>\n",
       "      <td>United States</td>\n",
       "      <td>2020</td>\n",
       "      <td>PG-13</td>\n",
       "      <td>90 min</td>\n",
       "      <td>Documentaries</td>\n",
       "      <td>As her father nears the end of his life, filmm...</td>\n",
       "      <td>2021</td>\n",
       "      <td>9</td>\n",
       "    </tr>\n",
       "    <tr>\n",
       "      <th>1</th>\n",
       "      <td>s2</td>\n",
       "      <td>TV Show</td>\n",
       "      <td>Blood &amp; Water</td>\n",
       "      <td>Unknown</td>\n",
       "      <td>Ama Qamata, Khosi Ngema, Gail Mabalane, Thaban...</td>\n",
       "      <td>South Africa</td>\n",
       "      <td>2021</td>\n",
       "      <td>TV-MA</td>\n",
       "      <td>2 Seasons</td>\n",
       "      <td>International TV Shows, TV Dramas, TV Mysteries</td>\n",
       "      <td>After crossing paths at a party, a Cape Town t...</td>\n",
       "      <td>2021</td>\n",
       "      <td>9</td>\n",
       "    </tr>\n",
       "    <tr>\n",
       "      <th>2</th>\n",
       "      <td>s3</td>\n",
       "      <td>TV Show</td>\n",
       "      <td>Ganglands</td>\n",
       "      <td>Julien Leclercq</td>\n",
       "      <td>Sami Bouajila, Tracy Gotoas, Samuel Jouy, Nabi...</td>\n",
       "      <td>Unknown</td>\n",
       "      <td>2021</td>\n",
       "      <td>TV-MA</td>\n",
       "      <td>1 Season</td>\n",
       "      <td>Crime TV Shows, International TV Shows, TV Act...</td>\n",
       "      <td>To protect his family from a powerful drug lor...</td>\n",
       "      <td>2021</td>\n",
       "      <td>9</td>\n",
       "    </tr>\n",
       "    <tr>\n",
       "      <th>3</th>\n",
       "      <td>s4</td>\n",
       "      <td>TV Show</td>\n",
       "      <td>Jailbirds New Orleans</td>\n",
       "      <td>Unknown</td>\n",
       "      <td>Unknown</td>\n",
       "      <td>Unknown</td>\n",
       "      <td>2021</td>\n",
       "      <td>TV-MA</td>\n",
       "      <td>1 Season</td>\n",
       "      <td>Docuseries, Reality TV</td>\n",
       "      <td>Feuds, flirtations and toilet talk go down amo...</td>\n",
       "      <td>2021</td>\n",
       "      <td>9</td>\n",
       "    </tr>\n",
       "    <tr>\n",
       "      <th>4</th>\n",
       "      <td>s5</td>\n",
       "      <td>TV Show</td>\n",
       "      <td>Kota Factory</td>\n",
       "      <td>Unknown</td>\n",
       "      <td>Mayur More, Jitendra Kumar, Ranjan Raj, Alam K...</td>\n",
       "      <td>India</td>\n",
       "      <td>2021</td>\n",
       "      <td>TV-MA</td>\n",
       "      <td>2 Seasons</td>\n",
       "      <td>International TV Shows, Romantic TV Shows, TV ...</td>\n",
       "      <td>In a city of coaching centers known to train I...</td>\n",
       "      <td>2021</td>\n",
       "      <td>9</td>\n",
       "    </tr>\n",
       "  </tbody>\n",
       "</table>\n",
       "</div>"
      ],
      "text/plain": [
       "  show_id     type                  title         director  \\\n",
       "0      s1    Movie   Dick Johnson Is Dead  Kirsten Johnson   \n",
       "1      s2  TV Show          Blood & Water          Unknown   \n",
       "2      s3  TV Show              Ganglands  Julien Leclercq   \n",
       "3      s4  TV Show  Jailbirds New Orleans          Unknown   \n",
       "4      s5  TV Show           Kota Factory          Unknown   \n",
       "\n",
       "                                                cast        country  \\\n",
       "0                                            Unknown  United States   \n",
       "1  Ama Qamata, Khosi Ngema, Gail Mabalane, Thaban...   South Africa   \n",
       "2  Sami Bouajila, Tracy Gotoas, Samuel Jouy, Nabi...        Unknown   \n",
       "3                                            Unknown        Unknown   \n",
       "4  Mayur More, Jitendra Kumar, Ranjan Raj, Alam K...          India   \n",
       "\n",
       "   release_year rating   duration  \\\n",
       "0          2020  PG-13     90 min   \n",
       "1          2021  TV-MA  2 Seasons   \n",
       "2          2021  TV-MA   1 Season   \n",
       "3          2021  TV-MA   1 Season   \n",
       "4          2021  TV-MA  2 Seasons   \n",
       "\n",
       "                                           listed_in  \\\n",
       "0                                      Documentaries   \n",
       "1    International TV Shows, TV Dramas, TV Mysteries   \n",
       "2  Crime TV Shows, International TV Shows, TV Act...   \n",
       "3                             Docuseries, Reality TV   \n",
       "4  International TV Shows, Romantic TV Shows, TV ...   \n",
       "\n",
       "                                         description  year_added  month_added  \n",
       "0  As her father nears the end of his life, filmm...        2021            9  \n",
       "1  After crossing paths at a party, a Cape Town t...        2021            9  \n",
       "2  To protect his family from a powerful drug lor...        2021            9  \n",
       "3  Feuds, flirtations and toilet talk go down amo...        2021            9  \n",
       "4  In a city of coaching centers known to train I...        2021            9  "
      ]
     },
     "execution_count": 954,
     "metadata": {},
     "output_type": "execute_result"
    }
   ],
   "source": [
    "print('the first 5 rows of the dataset are :')\n",
    "Netflix.head()"
   ]
  },
  {
   "cell_type": "code",
   "execution_count": 955,
   "metadata": {},
   "outputs": [
    {
     "name": "stdout",
     "output_type": "stream",
     "text": [
      "the unique values in the rating column are :\n"
     ]
    },
    {
     "data": {
      "text/plain": [
       "array(['PG-13', 'TV-MA', 'PG', 'TV-14', 'TV-PG', 'TV-Y', 'TV-Y7', 'R',\n",
       "       'TV-G', 'G', 'NC-17', '74 min', '84 min', '66 min', 'NR',\n",
       "       'Not Rated', 'TV-Y7-FV', 'UR'], dtype=object)"
      ]
     },
     "execution_count": 955,
     "metadata": {},
     "output_type": "execute_result"
    }
   ],
   "source": [
    "print('the unique values in the rating column are :')\n",
    "Netflix['rating'].unique()"
   ]
  },
  {
   "cell_type": "code",
   "execution_count": 956,
   "metadata": {},
   "outputs": [
    {
     "name": "stdout",
     "output_type": "stream",
     "text": [
      "the unique values in the rating column are :\n"
     ]
    },
    {
     "data": {
      "text/plain": [
       "array(['Teens', 'Adults', 'Older Kids', 'Kids', 'general', 'Not Rated'],\n",
       "      dtype=object)"
      ]
     },
     "execution_count": 956,
     "metadata": {},
     "output_type": "execute_result"
    }
   ],
   "source": [
    "# cleaning the rating column\n",
    "rating_replacements = {\n",
    "    'TV-Y7-FV': 'Older Kids',\n",
    "    'TV-Y7': 'Older Kids',\n",
    "    'TV-Y': 'Kids',\n",
    "    'TV-MA': 'Adults',\n",
    "    'TV-14': 'Teens',\n",
    "    'TV-PG': 'Older Kids',\n",
    "    'TV-G': 'general',\n",
    "    'NR': 'Not Rated',\n",
    "    'PG-13' : 'Teens',\n",
    "    'PG': 'Older Kids',\n",
    "    'UR': 'Not Rated',\n",
    "    'NC-17': 'Adults',\n",
    "    'G': 'general',\n",
    "    'R': 'Adults',\n",
    "    'NAN': 'Not Rated',\n",
    "    '74 min': 'Not Rated',\n",
    "    '84 min': 'Not Rated',\n",
    "    '66 min': 'Not Rated'\n",
    "}\n",
    "\n",
    "Netflix['rating'] = Netflix['rating'].replace(rating_replacements)\n",
    "\n",
    "\n",
    "print('the unique values in the rating column are :')\n",
    "Netflix['rating'].unique()"
   ]
  },
  {
   "cell_type": "code",
   "execution_count": 957,
   "metadata": {},
   "outputs": [
    {
     "name": "stdout",
     "output_type": "stream",
     "text": [
      "the unique values in the duration column are :\n"
     ]
    },
    {
     "data": {
      "text/plain": [
       "array(['90 min', '2 Seasons', '1 Season', '91 min', '125 min',\n",
       "       '9 Seasons', '104 min', '127 min', '4 Seasons', '67 min', '94 min',\n",
       "       '5 Seasons', '161 min', '61 min', '166 min', '147 min', '103 min',\n",
       "       '97 min', '106 min', '111 min', '3 Seasons', '110 min', '105 min',\n",
       "       '96 min', '124 min', '116 min', '98 min', '23 min', '115 min',\n",
       "       '122 min', '99 min', '88 min', '100 min', '6 Seasons', '102 min',\n",
       "       '93 min', '95 min', '85 min', '83 min', '113 min', '13 min',\n",
       "       '182 min', '48 min', '145 min', '87 min', '92 min', '80 min',\n",
       "       '117 min', '128 min', '119 min', '143 min', '114 min', '118 min',\n",
       "       '108 min', '63 min', '121 min', '142 min', '154 min', '120 min',\n",
       "       '82 min', '109 min', '101 min', '86 min', '229 min', '76 min',\n",
       "       '89 min', '156 min', '112 min', '107 min', '129 min', '135 min',\n",
       "       '136 min', '165 min', '150 min', '133 min', '70 min', '84 min',\n",
       "       '140 min', '78 min', '7 Seasons', '64 min', '59 min', '139 min',\n",
       "       '69 min', '148 min', '189 min', '141 min', '130 min', '138 min',\n",
       "       '81 min', '132 min', '10 Seasons', '123 min', '65 min', '68 min',\n",
       "       '66 min', '62 min', '74 min', '131 min', '39 min', '46 min',\n",
       "       '38 min', '8 Seasons', '17 Seasons', '126 min', '155 min',\n",
       "       '159 min', '137 min', '12 min', '273 min', '36 min', '34 min',\n",
       "       '77 min', '60 min', '49 min', '58 min', '72 min', '204 min',\n",
       "       '212 min', '25 min', '73 min', '29 min', '47 min', '32 min',\n",
       "       '35 min', '71 min', '149 min', '33 min', '15 min', '54 min',\n",
       "       '224 min', '162 min', '37 min', '75 min', '79 min', '55 min',\n",
       "       '158 min', '164 min', '173 min', '181 min', '185 min', '21 min',\n",
       "       '24 min', '51 min', '151 min', '42 min', '22 min', '134 min',\n",
       "       '177 min', '13 Seasons', '52 min', '14 min', '53 min', '8 min',\n",
       "       '57 min', '28 min', '50 min', '9 min', '26 min', '45 min',\n",
       "       '171 min', '27 min', '44 min', '146 min', '20 min', '157 min',\n",
       "       '17 min', '203 min', '41 min', '30 min', '194 min', '15 Seasons',\n",
       "       '233 min', '237 min', '230 min', '195 min', '253 min', '152 min',\n",
       "       '190 min', '160 min', '208 min', '180 min', '144 min', '5 min',\n",
       "       '174 min', '170 min', '192 min', '209 min', '187 min', '172 min',\n",
       "       '16 min', '186 min', '11 min', '193 min', '176 min', '56 min',\n",
       "       '169 min', '40 min', '10 min', '3 min', '168 min', '312 min',\n",
       "       '153 min', '214 min', '31 min', '163 min', '19 min', '12 Seasons',\n",
       "       'Unknown', '179 min', '43 min', '200 min', '196 min', '167 min',\n",
       "       '178 min', '228 min', '18 min', '205 min', '201 min', '191 min'],\n",
       "      dtype=object)"
      ]
     },
     "execution_count": 957,
     "metadata": {},
     "output_type": "execute_result"
    }
   ],
   "source": [
    "print('the unique values in the duration column are :')\n",
    "Netflix['duration'].unique()"
   ]
  },
  {
   "cell_type": "code",
   "execution_count": 958,
   "metadata": {},
   "outputs": [
    {
     "name": "stdout",
     "output_type": "stream",
     "text": [
      "The unique values in the duration column are:\n",
      "<IntegerArray>\n",
      "[  90,  600,  300,   91,  125, 2700,  104,  127, 1200,   67,\n",
      " ...\n",
      "   43,  200,  196,  167,  178,  228,   18,  205,  201,  191]\n",
      "Length: 220, dtype: Int64\n"
     ]
    }
   ],
   "source": [
    "#  extract numeric value based on unit of time\n",
    "SEASON_TO_MINUTES = 10 * 30  # 300 minutes per season\n",
    "\n",
    "def convert_duration(value):\n",
    "    if value == 'Unknown':\n",
    "        return np.nan\n",
    "    if 'Season' in value:\n",
    "        return str(int(value.split(' ')[0]) * SEASON_TO_MINUTES)\n",
    "    elif 's' in value:\n",
    "         return str(int(value.split(' ')[0]) * SEASON_TO_MINUTES)\n",
    "    elif 'min' in value:\n",
    "        return value.replace('min', '').strip()\n",
    "   \n",
    "    return value\n",
    "\n",
    "# Apply the conversion to the 'duration' column\n",
    "Netflix['duration'] = Netflix['duration'].apply(lambda x: convert_duration(x))\n",
    "\n",
    "# Convert the 'duration' column to numeric  \n",
    "Netflix['duration'] = pd.to_numeric(Netflix['duration'], errors='coerce')\n",
    "\n",
    "Netflix['duration'] = Netflix['duration'].astype('Int64')\n",
    "\n",
    "# Print the unique values in the 'duration' column\n",
    "print('The unique values in the duration column are:')\n",
    "print(Netflix['duration'].unique())"
   ]
  },
  {
   "cell_type": "code",
   "execution_count": 959,
   "metadata": {},
   "outputs": [
    {
     "name": "stdout",
     "output_type": "stream",
     "text": [
      "The unique values in the listed_in column are :\n"
     ]
    },
    {
     "data": {
      "text/plain": [
       "array(['Documentaries', 'International TV Shows, TV Dramas, TV Mysteries',\n",
       "       'Crime TV Shows, International TV Shows, TV Action & Adventure',\n",
       "       'Docuseries, Reality TV',\n",
       "       'International TV Shows, Romantic TV Shows, TV Comedies',\n",
       "       'TV Dramas, TV Horror, TV Mysteries', 'Children & Family Movies',\n",
       "       'Dramas, Independent Movies, International Movies',\n",
       "       'British TV Shows, Reality TV', 'Comedies, Dramas',\n",
       "       'Crime TV Shows, Docuseries, International TV Shows',\n",
       "       'Dramas, International Movies',\n",
       "       'Children & Family Movies, Comedies',\n",
       "       'British TV Shows, Crime TV Shows, Docuseries',\n",
       "       'TV Comedies, TV Dramas', 'Documentaries, International Movies',\n",
       "       'Crime TV Shows, Spanish-Language TV Shows, TV Dramas',\n",
       "       'Thrillers',\n",
       "       'International TV Shows, Spanish-Language TV Shows, TV Action & Adventure',\n",
       "       'International TV Shows, TV Action & Adventure, TV Dramas',\n",
       "       'Comedies, International Movies',\n",
       "       'Comedies, International Movies, Romantic Movies',\n",
       "       'Docuseries, International TV Shows, Reality TV',\n",
       "       'Comedies, International Movies, Music & Musicals', 'Comedies',\n",
       "       'Horror Movies, Sci-Fi & Fantasy', 'TV Comedies',\n",
       "       'British TV Shows, International TV Shows, TV Comedies',\n",
       "       'International TV Shows, TV Dramas, TV Thrillers', \"Kids' TV\",\n",
       "       'Dramas, International Movies, Thrillers',\n",
       "       'Action & Adventure, Dramas, International Movies',\n",
       "       \"Kids' TV, TV Comedies\", 'Action & Adventure, Dramas',\n",
       "       \"Kids' TV, TV Sci-Fi & Fantasy\",\n",
       "       'Action & Adventure, Classic Movies, Dramas',\n",
       "       'Dramas, Horror Movies, Thrillers',\n",
       "       'Action & Adventure, Horror Movies, Thrillers',\n",
       "       'Action & Adventure', 'Dramas, Thrillers',\n",
       "       'International TV Shows, TV Dramas',\n",
       "       'International TV Shows, TV Dramas, TV Sci-Fi & Fantasy',\n",
       "       'Action & Adventure, Anime Features, International Movies',\n",
       "       'Reality TV', 'Docuseries, International TV Shows',\n",
       "       'Documentaries, International Movies, Sports Movies',\n",
       "       'International TV Shows, Reality TV, Romantic TV Shows',\n",
       "       'British TV Shows, Docuseries, International TV Shows',\n",
       "       'Anime Series, International TV Shows',\n",
       "       'Comedies, Dramas, International Movies',\n",
       "       'Crime TV Shows, TV Comedies, TV Dramas',\n",
       "       'Action & Adventure, Comedies, Dramas', \"Anime Series, Kids' TV\",\n",
       "       'International Movies, Thrillers', \"Kids' TV, Korean TV Shows\",\n",
       "       'Documentaries, Sports Movies', 'Sci-Fi & Fantasy, Thrillers',\n",
       "       'Dramas, International Movies, Romantic Movies',\n",
       "       'Documentaries, Music & Musicals',\n",
       "       \"Kids' TV, TV Comedies, TV Sci-Fi & Fantasy\",\n",
       "       \"British TV Shows, Kids' TV\", 'Docuseries, Science & Nature TV',\n",
       "       'Children & Family Movies, Dramas',\n",
       "       \"Kids' TV, TV Dramas, Teen TV Shows\",\n",
       "       'Crime TV Shows, International TV Shows, Spanish-Language TV Shows',\n",
       "       'Docuseries, International TV Shows, Spanish-Language TV Shows',\n",
       "       'Dramas', 'Comedies, Romantic Movies', 'Dramas, Romantic Movies',\n",
       "       'Comedies, Dramas, Independent Movies',\n",
       "       'Crime TV Shows, TV Action & Adventure, TV Comedies',\n",
       "       'Children & Family Movies, Music & Musicals',\n",
       "       'Action & Adventure, Classic Movies, Cult Movies',\n",
       "       'International TV Shows, TV Action & Adventure, TV Comedies',\n",
       "       'Action & Adventure, Sci-Fi & Fantasy',\n",
       "       'Action & Adventure, Comedies', 'Classic Movies, Comedies, Dramas',\n",
       "       'Comedies, Cult Movies', 'Comedies, Cult Movies, Music & Musicals',\n",
       "       'Comedies, Music & Musicals', 'TV Shows',\n",
       "       'Action & Adventure, International Movies',\n",
       "       'Anime Series, International TV Shows, Teen TV Shows',\n",
       "       'Action & Adventure, Children & Family Movies, Cult Movies',\n",
       "       'Comedies, Dramas, Romantic Movies',\n",
       "       'Comedies, Cult Movies, Sci-Fi & Fantasy',\n",
       "       'Classic Movies, Dramas',\n",
       "       'Action & Adventure, Children & Family Movies, Comedies',\n",
       "       'Dramas, Faith & Spirituality', 'Documentaries, LGBTQ Movies',\n",
       "       'Action & Adventure, Classic Movies', 'Docuseries',\n",
       "       'International TV Shows, TV Comedies',\n",
       "       'Dramas, Independent Movies',\n",
       "       'Action & Adventure, Comedies, International Movies',\n",
       "       'International TV Shows, Spanish-Language TV Shows, TV Dramas',\n",
       "       'Crime TV Shows, International TV Shows, TV Dramas',\n",
       "       'Action & Adventure, Horror Movies, International Movies',\n",
       "       'Comedies, International Movies, Sci-Fi & Fantasy',\n",
       "       'Action & Adventure, International Movies, Music & Musicals',\n",
       "       'Dramas, International Movies, Music & Musicals',\n",
       "       'Horror Movies, International Movies', 'Reality TV, Teen TV Shows',\n",
       "       'Crime TV Shows, TV Dramas, TV Mysteries',\n",
       "       'International TV Shows, Reality TV',\n",
       "       'International TV Shows, TV Comedies, TV Dramas',\n",
       "       'Dramas, Independent Movies, Romantic Movies', 'Horror Movies',\n",
       "       'Documentaries, LGBTQ Movies, Sports Movies',\n",
       "       'Horror Movies, International Movies, Thrillers',\n",
       "       'Action & Adventure, Anime Features',\n",
       "       'TV Dramas, TV Mysteries, TV Sci-Fi & Fantasy',\n",
       "       'International TV Shows, Spanish-Language TV Shows, TV Comedies',\n",
       "       'Children & Family Movies, Comedies, Music & Musicals',\n",
       "       'Comedies, Independent Movies',\n",
       "       'Anime Series, International TV Shows, Romantic TV Shows',\n",
       "       'Classic Movies, Dramas, Independent Movies',\n",
       "       'International TV Shows, Romantic TV Shows, Spanish-Language TV Shows',\n",
       "       'International TV Shows, TV Dramas, Teen TV Shows',\n",
       "       'Stand-Up Comedy',\n",
       "       'Action & Adventure, Anime Features, Children & Family Movies',\n",
       "       'International TV Shows, Romantic TV Shows, TV Dramas',\n",
       "       'International Movies, Music & Musicals',\n",
       "       'TV Action & Adventure, TV Dramas, TV Mysteries',\n",
       "       'Horror Movies, Independent Movies, International Movies',\n",
       "       'Comedies, Cult Movies, International Movies',\n",
       "       'Classic Movies, Dramas, International Movies', 'Movies',\n",
       "       'Crime TV Shows, Docuseries',\n",
       "       'Children & Family Movies, Comedies, Sci-Fi & Fantasy',\n",
       "       'Anime Series, International TV Shows, TV Thrillers',\n",
       "       'Action & Adventure, Horror Movies, Sci-Fi & Fantasy',\n",
       "       'Classic Movies, Comedies, Cult Movies',\n",
       "       'TV Dramas, Teen TV Shows',\n",
       "       'Action & Adventure, Sci-Fi & Fantasy, Thrillers',\n",
       "       'Children & Family Movies, Comedies, Dramas',\n",
       "       'Dramas, Sports Movies',\n",
       "       'Action & Adventure, Dramas, Sci-Fi & Fantasy',\n",
       "       'Action & Adventure, Comedies, Cult Movies',\n",
       "       'Dramas, Independent Movies, Thrillers',\n",
       "       'TV Dramas, TV Sci-Fi & Fantasy',\n",
       "       'Action & Adventure, International Movies, Thrillers',\n",
       "       'British TV Shows, International TV Shows, Reality TV',\n",
       "       'TV Action & Adventure, TV Dramas, Teen TV Shows', 'Anime Series',\n",
       "       'Crime TV Shows, TV Action & Adventure, TV Sci-Fi & Fantasy',\n",
       "       'Crime TV Shows, International TV Shows, TV Comedies',\n",
       "       'Stand-Up Comedy & Talk Shows, TV Comedies',\n",
       "       'Classic & Cult TV, TV Action & Adventure, TV Dramas',\n",
       "       'Children & Family Movies, Sports Movies',\n",
       "       'TV Action & Adventure, TV Sci-Fi & Fantasy',\n",
       "       'Anime Series, Stand-Up Comedy & Talk Shows', 'TV Dramas',\n",
       "       'Anime Features, Children & Family Movies, International Movies',\n",
       "       'Classic & Cult TV, Crime TV Shows, International TV Shows',\n",
       "       'Crime TV Shows, International TV Shows, Romantic TV Shows',\n",
       "       'Horror Movies, LGBTQ Movies',\n",
       "       'Action & Adventure, Dramas, Romantic Movies',\n",
       "       'Documentaries, International Movies, Music & Musicals',\n",
       "       'TV Comedies, TV Dramas, Teen TV Shows',\n",
       "       'Children & Family Movies, Comedies, Sports Movies',\n",
       "       'Children & Family Movies, Dramas, International Movies',\n",
       "       'Comedies, Documentaries, International Movies',\n",
       "       'Romantic TV Shows, TV Dramas',\n",
       "       'Anime Series, TV Horror, TV Thrillers',\n",
       "       'International Movies, Romantic Movies',\n",
       "       'TV Action & Adventure, TV Dramas, TV Sci-Fi & Fantasy',\n",
       "       \"Kids' TV, Korean TV Shows, TV Comedies\",\n",
       "       'British TV Shows, Crime TV Shows, International TV Shows',\n",
       "       'Crime TV Shows, TV Horror, TV Mysteries',\n",
       "       'Docuseries, International TV Shows, Science & Nature TV',\n",
       "       'British TV Shows, International TV Shows, TV Dramas',\n",
       "       \"Kids' TV, TV Action & Adventure, TV Sci-Fi & Fantasy\",\n",
       "       'International Movies, Romantic Movies, Thrillers',\n",
       "       'Action & Adventure, Cult Movies, International Movies',\n",
       "       'Action & Adventure, Comedies, Sci-Fi & Fantasy',\n",
       "       \"International TV Shows, Kids' TV, TV Mysteries\",\n",
       "       'Action & Adventure, Thrillers',\n",
       "       'Dramas, Faith & Spirituality, International Movies',\n",
       "       'Action & Adventure, Classic Movies, Comedies',\n",
       "       'Action & Adventure, Comedies, Sports Movies',\n",
       "       'Action & Adventure, Children & Family Movies, Classic Movies',\n",
       "       'Action & Adventure, Children & Family Movies, Dramas',\n",
       "       'Horror Movies, Thrillers', 'Action & Adventure, Romantic Movies',\n",
       "       'Dramas, Romantic Movies, Sci-Fi & Fantasy',\n",
       "       'Dramas, Music & Musicals, Romantic Movies',\n",
       "       'Anime Series, Crime TV Shows, International TV Shows',\n",
       "       'Reality TV, Romantic TV Shows',\n",
       "       'International Movies, Music & Musicals, Romantic Movies',\n",
       "       'Reality TV, TV Action & Adventure, TV Mysteries',\n",
       "       'Crime TV Shows, TV Dramas',\n",
       "       'International TV Shows, Reality TV, Spanish-Language TV Shows',\n",
       "       'Crime TV Shows, TV Dramas, TV Thrillers',\n",
       "       'British TV Shows, Docuseries',\n",
       "       'International TV Shows, Korean TV Shows, TV Comedies',\n",
       "       'Action & Adventure, Anime Features, Classic Movies',\n",
       "       'TV Action & Adventure, TV Dramas, TV Horror',\n",
       "       'Crime TV Shows, International TV Shows, TV Thrillers',\n",
       "       'Anime Series, Crime TV Shows, TV Horror',\n",
       "       'Anime Features, Documentaries', 'Comedies, Horror Movies',\n",
       "       'International TV Shows, Spanish-Language TV Shows, Stand-Up Comedy & Talk Shows',\n",
       "       'Children & Family Movies, Documentaries, International Movies',\n",
       "       'Romantic TV Shows, TV Comedies, TV Dramas',\n",
       "       'Dramas, Faith & Spirituality, Romantic Movies',\n",
       "       'Dramas, Independent Movies, LGBTQ Movies',\n",
       "       'Comedies, Independent Movies, LGBTQ Movies',\n",
       "       'Action & Adventure, Cult Movies, Sci-Fi & Fantasy',\n",
       "       'Cult Movies, Horror Movies',\n",
       "       'Action & Adventure, Dramas, Sports Movies',\n",
       "       'Anime Series, Romantic TV Shows, Teen TV Shows',\n",
       "       'Dramas, International Movies, LGBTQ Movies',\n",
       "       'Dramas, Romantic Movies, Thrillers',\n",
       "       'Children & Family Movies, Dramas, Faith & Spirituality',\n",
       "       'Dramas, International Movies, Sports Movies',\n",
       "       'Action & Adventure, Horror Movies',\n",
       "       'Documentaries, International Movies, LGBTQ Movies',\n",
       "       'Dramas, Independent Movies, Sci-Fi & Fantasy',\n",
       "       'Comedies, Independent Movies, International Movies',\n",
       "       'Reality TV, TV Horror, TV Thrillers',\n",
       "       'TV Action & Adventure, TV Horror, TV Sci-Fi & Fantasy',\n",
       "       'International TV Shows, TV Horror, TV Sci-Fi & Fantasy',\n",
       "       'Independent Movies, International Movies, Thrillers',\n",
       "       'Independent Movies, Thrillers', 'Documentaries, Dramas',\n",
       "       'Action & Adventure, Sports Movies',\n",
       "       'Dramas, International Movies, Sci-Fi & Fantasy',\n",
       "       'Comedies, Independent Movies, Romantic Movies',\n",
       "       'Horror Movies, Romantic Movies, Sci-Fi & Fantasy',\n",
       "       'International TV Shows, Stand-Up Comedy & Talk Shows',\n",
       "       'Action & Adventure, Anime Features, Horror Movies',\n",
       "       'Cult Movies, Dramas, Music & Musicals', 'TV Dramas, TV Thrillers',\n",
       "       'Crime TV Shows, International TV Shows, Korean TV Shows',\n",
       "       'TV Horror, TV Mysteries, TV Thrillers',\n",
       "       'Comedies, Horror Movies, International Movies',\n",
       "       'Crime TV Shows, Docuseries, TV Mysteries',\n",
       "       'Comedies, International Movies, Sports Movies',\n",
       "       'Classic Movies, Music & Musicals',\n",
       "       'Reality TV, TV Comedies, TV Horror',\n",
       "       'Children & Family Movies, Faith & Spirituality, Music & Musicals',\n",
       "       'International TV Shows, Korean TV Shows, Stand-Up Comedy & Talk Shows',\n",
       "       'Dramas, Music & Musicals',\n",
       "       'Docuseries, Science & Nature TV, TV Action & Adventure',\n",
       "       \"British TV Shows, Kids' TV, TV Dramas\",\n",
       "       'International TV Shows, Korean TV Shows, Romantic TV Shows',\n",
       "       'Horror Movies, Independent Movies',\n",
       "       \"Anime Series, Kids' TV, TV Action & Adventure\",\n",
       "       'Comedies, Dramas, Music & Musicals', 'TV Horror, Teen TV Shows',\n",
       "       'Comedies, LGBTQ Movies, Thrillers',\n",
       "       'Docuseries, Reality TV, Science & Nature TV',\n",
       "       'Crime TV Shows, Spanish-Language TV Shows, TV Action & Adventure',\n",
       "       'Romantic TV Shows, Teen TV Shows', 'TV Comedies, Teen TV Shows',\n",
       "       'Romantic TV Shows, TV Dramas, Teen TV Shows',\n",
       "       'Children & Family Movies, Sci-Fi & Fantasy',\n",
       "       'Romantic TV Shows, TV Action & Adventure, TV Dramas',\n",
       "       'Comedies, International Movies, LGBTQ Movies',\n",
       "       'Dramas, Sci-Fi & Fantasy', \"Kids' TV, TV Thrillers\",\n",
       "       'TV Action & Adventure, TV Comedies, TV Sci-Fi & Fantasy',\n",
       "       'British TV Shows, Romantic TV Shows, TV Dramas',\n",
       "       'Anime Series, International TV Shows, Spanish-Language TV Shows',\n",
       "       'Docuseries, TV Comedies',\n",
       "       'Comedies, Romantic Movies, Sports Movies',\n",
       "       'TV Action & Adventure, TV Comedies, TV Dramas',\n",
       "       'Children & Family Movies, Dramas, Sports Movies',\n",
       "       'Action & Adventure, Dramas, Independent Movies',\n",
       "       'Spanish-Language TV Shows, TV Dramas', 'Dramas, LGBTQ Movies',\n",
       "       'TV Horror, TV Mysteries, TV Sci-Fi & Fantasy',\n",
       "       'Action & Adventure, Dramas, Faith & Spirituality',\n",
       "       'International TV Shows, TV Mysteries, TV Thrillers',\n",
       "       'British TV Shows, Classic & Cult TV, International TV Shows',\n",
       "       'Action & Adventure, Comedies, Independent Movies',\n",
       "       'Music & Musicals', \"British TV Shows, Kids' TV, TV Comedies\",\n",
       "       'Docuseries, Spanish-Language TV Shows',\n",
       "       'Dramas, Independent Movies, Sports Movies',\n",
       "       'TV Dramas, TV Mysteries, TV Thrillers',\n",
       "       'Comedies, LGBTQ Movies, Music & Musicals',\n",
       "       'International TV Shows, TV Action & Adventure, TV Mysteries',\n",
       "       \"Kids' TV, TV Comedies, Teen TV Shows\",\n",
       "       'International TV Shows, TV Dramas, TV Horror',\n",
       "       'Comedies, International Movies, Thrillers',\n",
       "       'Classic & Cult TV, TV Action & Adventure, TV Sci-Fi & Fantasy',\n",
       "       'International TV Shows, TV Horror, TV Mysteries',\n",
       "       'Children & Family Movies, Documentaries',\n",
       "       'Music & Musicals, Romantic Movies', 'Romantic Movies',\n",
       "       'Children & Family Movies, Classic Movies, Comedies',\n",
       "       'TV Action & Adventure, TV Dramas',\n",
       "       'Dramas, LGBTQ Movies, Romantic Movies',\n",
       "       'Children & Family Movies, Comedies, Romantic Movies',\n",
       "       'Comedies, Sports Movies', 'International Movies',\n",
       "       'International TV Shows, Romantic TV Shows, TV Mysteries',\n",
       "       'Stand-Up Comedy & Talk Shows',\n",
       "       'Action & Adventure, International Movies, Romantic Movies',\n",
       "       'Reality TV, TV Comedies',\n",
       "       'Cult Movies, Dramas, International Movies', \"Kids' TV, TV Dramas\",\n",
       "       'Crime TV Shows, International TV Shows, TV Mysteries',\n",
       "       'Action & Adventure, Sci-Fi & Fantasy, Sports Movies',\n",
       "       'TV Dramas, TV Sci-Fi & Fantasy, TV Thrillers',\n",
       "       'Romantic TV Shows, TV Dramas, TV Sci-Fi & Fantasy',\n",
       "       'Docuseries, TV Sci-Fi & Fantasy',\n",
       "       'Anime Features, International Movies',\n",
       "       \"British TV Shows, Classic & Cult TV, Kids' TV\",\n",
       "       'British TV Shows, Reality TV, Romantic TV Shows',\n",
       "       'Documentaries, Faith & Spirituality, International Movies',\n",
       "       \"Kids' TV, Reality TV, TV Dramas\", 'LGBTQ Movies, Thrillers',\n",
       "       'TV Action & Adventure, TV Mysteries, TV Sci-Fi & Fantasy',\n",
       "       'Reality TV, Science & Nature TV',\n",
       "       \"Kids' TV, TV Action & Adventure, TV Comedies\",\n",
       "       'International TV Shows, Romantic TV Shows, TV Action & Adventure',\n",
       "       'Children & Family Movies, Dramas, Independent Movies',\n",
       "       'Comedies, Music & Musicals, Romantic Movies',\n",
       "       'International TV Shows, Korean TV Shows, Reality TV',\n",
       "       'Classic & Cult TV, TV Dramas, TV Sci-Fi & Fantasy',\n",
       "       'Anime Features, Children & Family Movies',\n",
       "       'Action & Adventure, International Movies, Sci-Fi & Fantasy',\n",
       "       'Crime TV Shows, TV Action & Adventure, TV Dramas',\n",
       "       'Classic & Cult TV, TV Action & Adventure, TV Horror',\n",
       "       'International TV Shows, Korean TV Shows, TV Dramas',\n",
       "       'International TV Shows, TV Action & Adventure, TV Horror',\n",
       "       'Action & Adventure, Comedies, Romantic Movies',\n",
       "       'International TV Shows, Korean TV Shows, TV Action & Adventure',\n",
       "       \"Classic & Cult TV, Kids' TV, TV Action & Adventure\",\n",
       "       'Anime Series, International TV Shows, TV Horror',\n",
       "       'International TV Shows, Korean TV Shows, TV Horror',\n",
       "       'Children & Family Movies, Comedies, International Movies',\n",
       "       'International Movies, Sci-Fi & Fantasy',\n",
       "       'International Movies, Sci-Fi & Fantasy, Thrillers',\n",
       "       'Children & Family Movies, Dramas, Romantic Movies',\n",
       "       'Anime Series, Romantic TV Shows',\n",
       "       'Comedies, Dramas, LGBTQ Movies',\n",
       "       'British TV Shows, International TV Shows, TV Action & Adventure',\n",
       "       'Docuseries, Science & Nature TV, TV Comedies',\n",
       "       'International TV Shows, Stand-Up Comedy & Talk Shows, TV Comedies',\n",
       "       'Children & Family Movies, Dramas, Music & Musicals',\n",
       "       'Action & Adventure, Independent Movies, International Movies',\n",
       "       'Action & Adventure, Children & Family Movies, Sci-Fi & Fantasy',\n",
       "       'Horror Movies, Independent Movies, Sci-Fi & Fantasy',\n",
       "       'TV Dramas, TV Sci-Fi & Fantasy, Teen TV Shows',\n",
       "       'Anime Features, International Movies, Sci-Fi & Fantasy',\n",
       "       'Dramas, Independent Movies, Music & Musicals',\n",
       "       \"Kids' TV, TV Comedies, TV Dramas\",\n",
       "       'Children & Family Movies, Documentaries, Sports Movies',\n",
       "       'Independent Movies, Sci-Fi & Fantasy, Thrillers',\n",
       "       'Anime Features, Music & Musicals, Sci-Fi & Fantasy',\n",
       "       'TV Comedies, TV Dramas, TV Sci-Fi & Fantasy',\n",
       "       'Crime TV Shows, TV Action & Adventure',\n",
       "       'Comedies, Faith & Spirituality, Romantic Movies',\n",
       "       \"Kids' TV, TV Action & Adventure\",\n",
       "       'Action & Adventure, Independent Movies',\n",
       "       'International TV Shows, Reality TV, TV Comedies',\n",
       "       'Docuseries, Reality TV, Teen TV Shows',\n",
       "       'Crime TV Shows, International TV Shows, Reality TV',\n",
       "       'Anime Series, Teen TV Shows',\n",
       "       'Crime TV Shows, Romantic TV Shows, TV Dramas',\n",
       "       'Anime Features, Romantic Movies',\n",
       "       'Horror Movies, Sci-Fi & Fantasy, Thrillers',\n",
       "       'International TV Shows, TV Comedies, TV Sci-Fi & Fantasy',\n",
       "       'International TV Shows, Romantic TV Shows',\n",
       "       'Anime Features, Music & Musicals',\n",
       "       'Anime Features, International Movies, Romantic Movies',\n",
       "       'International TV Shows, Romantic TV Shows, Teen TV Shows',\n",
       "       'Docuseries, Stand-Up Comedy & Talk Shows',\n",
       "       'Horror Movies, Independent Movies, Thrillers',\n",
       "       'TV Action & Adventure, TV Comedies, TV Horror',\n",
       "       'Documentaries, Stand-Up Comedy',\n",
       "       \"Kids' TV, Spanish-Language TV Shows\",\n",
       "       \"British TV Shows, Kids' TV, TV Thrillers\",\n",
       "       \"Kids' TV, TV Action & Adventure, TV Dramas\",\n",
       "       'Anime Series, Crime TV Shows',\n",
       "       'Dramas, Sci-Fi & Fantasy, Thrillers',\n",
       "       'TV Comedies, TV Dramas, TV Horror',\n",
       "       'Children & Family Movies, Comedies, LGBTQ Movies',\n",
       "       'International TV Shows, TV Action & Adventure, TV Sci-Fi & Fantasy',\n",
       "       'Docuseries, TV Dramas',\n",
       "       'Horror Movies, International Movies, Romantic Movies',\n",
       "       'Crime TV Shows, Docuseries, Science & Nature TV',\n",
       "       'International Movies, Music & Musicals, Thrillers',\n",
       "       \"Kids' TV, Spanish-Language TV Shows, Teen TV Shows\",\n",
       "       'Comedies, Horror Movies, Independent Movies',\n",
       "       'Action & Adventure, International Movies, Sports Movies',\n",
       "       'Action & Adventure, Independent Movies, Sci-Fi & Fantasy',\n",
       "       'Horror Movies, LGBTQ Movies, Music & Musicals',\n",
       "       'Comedies, Music & Musicals, Sports Movies',\n",
       "       'TV Horror, TV Mysteries, Teen TV Shows',\n",
       "       'Romantic TV Shows, TV Comedies',\n",
       "       \"Kids' TV, Reality TV, Science & Nature TV\",\n",
       "       'International Movies, Romantic Movies, Sci-Fi & Fantasy',\n",
       "       'TV Comedies, TV Horror, TV Thrillers', 'TV Action & Adventure',\n",
       "       'International TV Shows, Spanish-Language TV Shows, TV Horror',\n",
       "       'Crime TV Shows, TV Action & Adventure, TV Thrillers',\n",
       "       'Music & Musicals, Stand-Up Comedy',\n",
       "       'British TV Shows, TV Comedies',\n",
       "       'TV Comedies, TV Sci-Fi & Fantasy, Teen TV Shows',\n",
       "       'TV Comedies, TV Sci-Fi & Fantasy',\n",
       "       'Romantic TV Shows, Spanish-Language TV Shows, TV Comedies',\n",
       "       'Crime TV Shows, International TV Shows, TV Sci-Fi & Fantasy',\n",
       "       'British TV Shows, International TV Shows, Romantic TV Shows',\n",
       "       \"Crime TV Shows, Kids' TV\",\n",
       "       'Horror Movies, International Movies, Sci-Fi & Fantasy',\n",
       "       'TV Comedies, TV Mysteries',\n",
       "       'Cult Movies, Horror Movies, Independent Movies',\n",
       "       'British TV Shows, Docuseries, TV Comedies',\n",
       "       'Comedies, Documentaries',\n",
       "       'Reality TV, Science & Nature TV, TV Action & Adventure',\n",
       "       'TV Comedies, TV Dramas, TV Mysteries',\n",
       "       'Crime TV Shows, TV Comedies, Teen TV Shows',\n",
       "       \"Docuseries, Kids' TV, Science & Nature TV\",\n",
       "       'Reality TV, Spanish-Language TV Shows',\n",
       "       'Action & Adventure, Anime Features, Sci-Fi & Fantasy',\n",
       "       \"Crime TV Shows, Kids' TV, TV Comedies\",\n",
       "       'Dramas, Faith & Spirituality, Independent Movies',\n",
       "       'Documentaries, Faith & Spirituality',\n",
       "       'British TV Shows, International TV Shows, Stand-Up Comedy & Talk Shows',\n",
       "       'Comedies, Dramas, Faith & Spirituality',\n",
       "       'Classic & Cult TV, TV Comedies',\n",
       "       'Dramas, Romantic Movies, Sports Movies',\n",
       "       'Stand-Up Comedy & Talk Shows, TV Mysteries, TV Sci-Fi & Fantasy',\n",
       "       'TV Sci-Fi & Fantasy, TV Thrillers',\n",
       "       'Comedies, Independent Movies, Music & Musicals',\n",
       "       'Comedies, Cult Movies, Independent Movies',\n",
       "       'Documentaries, Dramas, International Movies',\n",
       "       'British TV Shows, TV Horror, TV Thrillers',\n",
       "       'British TV Shows, Docuseries, Science & Nature TV',\n",
       "       'Children & Family Movies, Comedies, Cult Movies', 'Sports Movies',\n",
       "       'Sci-Fi & Fantasy', 'Comedies, LGBTQ Movies',\n",
       "       'Comedies, Independent Movies, Thrillers',\n",
       "       'Classic Movies, Cult Movies, Dramas',\n",
       "       'Action & Adventure, Children & Family Movies, Independent Movies',\n",
       "       'Action & Adventure, Documentaries, International Movies',\n",
       "       'Children & Family Movies, Independent Movies',\n",
       "       'Comedies, Cult Movies, Dramas',\n",
       "       'International TV Shows, TV Horror, TV Thrillers',\n",
       "       'Classic Movies, Thrillers',\n",
       "       'Crime TV Shows, TV Dramas, TV Horror',\n",
       "       'British TV Shows, Docuseries, Reality TV',\n",
       "       'Documentaries, LGBTQ Movies, Music & Musicals',\n",
       "       'Classic Movies, Dramas, Romantic Movies',\n",
       "       'Crime TV Shows, Romantic TV Shows, Spanish-Language TV Shows',\n",
       "       'Classic Movies, Cult Movies, Horror Movies',\n",
       "       'Anime Series, Crime TV Shows, TV Thrillers',\n",
       "       'Children & Family Movies, Classic Movies',\n",
       "       'Classic Movies, Comedies, International Movies',\n",
       "       'Comedies, Sci-Fi & Fantasy',\n",
       "       'Action & Adventure, Cult Movies, Dramas',\n",
       "       'Documentaries, Faith & Spirituality, Music & Musicals',\n",
       "       'International Movies, Sports Movies', 'International TV Shows',\n",
       "       \"Classic & Cult TV, Kids' TV, Spanish-Language TV Shows\",\n",
       "       'Romantic TV Shows, Spanish-Language TV Shows, TV Dramas',\n",
       "       'Children & Family Movies, Comedies, Faith & Spirituality',\n",
       "       'Classic Movies, Dramas, Music & Musicals',\n",
       "       'Cult Movies, Horror Movies, Thrillers',\n",
       "       'Action & Adventure, Classic Movies, Sci-Fi & Fantasy',\n",
       "       'Classic Movies, Comedies, Music & Musicals', 'Independent Movies',\n",
       "       'Documentaries, Horror Movies',\n",
       "       'Comedies, Faith & Spirituality, International Movies',\n",
       "       'Dramas, Horror Movies, Sci-Fi & Fantasy',\n",
       "       'British TV Shows, TV Dramas, TV Sci-Fi & Fantasy',\n",
       "       'Comedies, Cult Movies, Horror Movies',\n",
       "       'Comedies, Cult Movies, Sports Movies',\n",
       "       'Classic Movies, Documentaries',\n",
       "       'Action & Adventure, Faith & Spirituality, Sci-Fi & Fantasy',\n",
       "       'Action & Adventure, Children & Family Movies',\n",
       "       'International TV Shows, Reality TV, TV Action & Adventure',\n",
       "       'Anime Features',\n",
       "       'Action & Adventure, Horror Movies, Independent Movies',\n",
       "       'Action & Adventure, Classic Movies, International Movies',\n",
       "       'Cult Movies, Independent Movies, Thrillers',\n",
       "       'Crime TV Shows, TV Comedies',\n",
       "       'Classic Movies, Cult Movies, Documentaries',\n",
       "       'Classic Movies, Dramas, LGBTQ Movies',\n",
       "       'Classic Movies, Dramas, Sports Movies',\n",
       "       'Action & Adventure, Cult Movies',\n",
       "       'British TV Shows, Crime TV Shows, TV Dramas',\n",
       "       'Action & Adventure, Comedies, Music & Musicals',\n",
       "       'Classic Movies, Horror Movies, Thrillers',\n",
       "       'Classic Movies, Comedies, Independent Movies',\n",
       "       'Children & Family Movies, Classic Movies, Dramas',\n",
       "       'Dramas, Faith & Spirituality, Sports Movies',\n",
       "       'Classic Movies, Comedies, Romantic Movies',\n",
       "       'Dramas, Horror Movies, Music & Musicals',\n",
       "       'Classic Movies, Independent Movies, Thrillers',\n",
       "       'Children & Family Movies, Faith & Spirituality',\n",
       "       'Classic Movies, Comedies, Sports Movies',\n",
       "       'Comedies, Dramas, Sports Movies',\n",
       "       'Action & Adventure, Romantic Movies, Sci-Fi & Fantasy',\n",
       "       'Classic & Cult TV, TV Sci-Fi & Fantasy',\n",
       "       'Comedies, Cult Movies, LGBTQ Movies',\n",
       "       'British TV Shows, Classic & Cult TV, TV Comedies',\n",
       "       'Comedies, Horror Movies, Sci-Fi & Fantasy',\n",
       "       'Action & Adventure, Comedies, Horror Movies',\n",
       "       'Classic & Cult TV, Crime TV Shows, TV Dramas',\n",
       "       'Action & Adventure, Documentaries, Sports Movies',\n",
       "       'International Movies, LGBTQ Movies, Romantic Movies',\n",
       "       'Cult Movies, Dramas, Thrillers'], dtype=object)"
      ]
     },
     "execution_count": 959,
     "metadata": {},
     "output_type": "execute_result"
    }
   ],
   "source": [
    "print('The unique values in the listed_in column are :')\n",
    "Netflix['listed_in'].unique()\n"
   ]
  },
  {
   "cell_type": "code",
   "execution_count": 960,
   "metadata": {},
   "outputs": [
    {
     "name": "stdout",
     "output_type": "stream",
     "text": [
      "The unique values in the listed_in column are :\n"
     ]
    },
    {
     "data": {
      "text/plain": [
       "array(['Documentaries', 'International TV Shows', 'TV Dramas',\n",
       "       'TV Mysteries', 'Crime TV Shows', 'TV Action & Adventure',\n",
       "       'Docuseries', 'Reality TV', 'Romantic TV Shows', 'TV Comedies',\n",
       "       'TV Horror', 'Children & Family Movies', 'Dramas',\n",
       "       'Independent Movies', 'International Movies', 'British TV Shows',\n",
       "       'Comedies', 'Spanish-Language TV Shows', 'Thrillers',\n",
       "       'Romantic Movies', 'Music & Musicals', 'Horror Movies',\n",
       "       'Sci-Fi & Fantasy', 'TV Thrillers', \"Kids' TV\",\n",
       "       'Action & Adventure', 'TV Sci-Fi & Fantasy', 'Classic Movies',\n",
       "       'Anime Features', 'Sports Movies', 'Anime Series',\n",
       "       'Korean TV Shows', 'Science & Nature TV', 'Teen TV Shows',\n",
       "       'Cult Movies', 'TV Shows', 'Faith & Spirituality', 'LGBTQ Movies',\n",
       "       'Stand-Up Comedy', 'Movies', 'Stand-Up Comedy & Talk Shows',\n",
       "       'Classic & Cult TV'], dtype=object)"
      ]
     },
     "execution_count": 960,
     "metadata": {},
     "output_type": "execute_result"
    }
   ],
   "source": [
    "#  Expand 'listed_in' column into multiple rows for individual genres\n",
    "Netflix = Netflix.assign(listed_in=Netflix['listed_in'].str.split(', ')).explode('listed_in')\n",
    "\n",
    "print('The unique values in the listed_in column are :')\n",
    "Netflix['listed_in'].unique()"
   ]
  },
  {
   "cell_type": "code",
   "execution_count": 961,
   "metadata": {},
   "outputs": [
    {
     "name": "stdout",
     "output_type": "stream",
     "text": [
      "the number of the unique show_id in the dataset is : 8709\n"
     ]
    }
   ],
   "source": [
    "#checking for the duplicates in the primary key in dataset\n",
    "print('the number of the unique show_id in the dataset is :' , Netflix['show_id'].unique().shape[0]) \n"
   ]
  },
  {
   "cell_type": "markdown",
   "metadata": {},
   "source": [
    "### Step 3: Exploratory Data Analysis (EDA)"
   ]
  },
  {
   "cell_type": "code",
   "execution_count": 962,
   "metadata": {},
   "outputs": [
    {
     "name": "stdout",
     "output_type": "stream",
     "text": [
      "the number of movies and tv shows in the dataset are :\n"
     ]
    },
    {
     "data": {
      "text/plain": [
       "type\n",
       "Movie      13190\n",
       "TV Show     5930\n",
       "Name: count, dtype: int64"
      ]
     },
     "execution_count": 962,
     "metadata": {},
     "output_type": "execute_result"
    }
   ],
   "source": [
    "type = Netflix['type'].value_counts()\n",
    "print('the number of movies and tv shows in the dataset are :')\n",
    "type"
   ]
  },
  {
   "cell_type": "code",
   "execution_count": 963,
   "metadata": {},
   "outputs": [
    {
     "name": "stderr",
     "output_type": "stream",
     "text": [
      "C:\\Users\\Mohsu\\AppData\\Local\\Temp\\ipykernel_17184\\4154570115.py:4: FutureWarning: \n",
      "\n",
      "Passing `palette` without assigning `hue` is deprecated and will be removed in v0.14.0. Assign the `x` variable to `hue` and set `legend=False` for the same effect.\n",
      "\n",
      "  sns.countplot(x='type', data=Netflix, palette='viridis')\n"
     ]
    },
    {
     "data": {
      "image/png": "[encoded data removed]",
      "text/plain": [
       "<Figure size 1000x600 with 1 Axes>"
      ]
     },
     "metadata": {},
     "output_type": "display_data"
    }
   ],
   "source": [
    "# Analyzing the proportion of movies vs. TV shows\n",
    "plt.figure(figsize=(10, 6))\n",
    "sns.set_style('whitegrid')\n",
    "sns.countplot(x='type', data=Netflix, palette='viridis')\n",
    "plt.title('Proportion of Movies vs. TV Shows')\n",
    "plt.show()"
   ]
  },
  {
   "cell_type": "code",
   "execution_count": 964,
   "metadata": {},
   "outputs": [
    {
     "name": "stdout",
     "output_type": "stream",
     "text": [
      "the top 10 genres in the dataset are :\n"
     ]
    },
    {
     "data": {
      "text/plain": [
       "listed_in\n",
       "International Movies        2752\n",
       "Dramas                      2427\n",
       "Comedies                    1674\n",
       "International TV Shows      1328\n",
       "Documentaries                869\n",
       "Action & Adventure           859\n",
       "Independent Movies           756\n",
       "TV Dramas                    739\n",
       "Children & Family Movies     641\n",
       "Romantic Movies              616\n",
       "Name: count, dtype: int64"
      ]
     },
     "execution_count": 964,
     "metadata": {},
     "output_type": "execute_result"
    }
   ],
   "source": [
    "top_genres = Netflix['listed_in'].value_counts().head(10)\n",
    "print('the top 10 genres in the dataset are :')\n",
    "top_genres"
   ]
  },
  {
   "cell_type": "code",
   "execution_count": 965,
   "metadata": {},
   "outputs": [
    {
     "name": "stderr",
     "output_type": "stream",
     "text": [
      "C:\\Users\\Mohsu\\AppData\\Local\\Temp\\ipykernel_17184\\2457569104.py:4: FutureWarning: \n",
      "\n",
      "Passing `palette` without assigning `hue` is deprecated and will be removed in v0.14.0. Assign the `y` variable to `hue` and set `legend=False` for the same effect.\n",
      "\n",
      "  sns.barplot(x=top_genres, y=top_genres.index, palette='viridis')\n"
     ]
    },
    {
     "data": {
      "image/png": "[encoded data removed]",
      "text/plain": [
       "<Figure size 1000x600 with 1 Axes>"
      ]
     },
     "metadata": {},
     "output_type": "display_data"
    }
   ],
   "source": [
    "\n",
    "# visualizing the top 10 genres on Netflix\n",
    "plt.figure(figsize=(10, 6))\n",
    "sns.set_style('whitegrid')\n",
    "sns.barplot(x=top_genres, y=top_genres.index, palette='viridis')\n",
    "plt.title('Top 10 Genres on Netflix')\n",
    "plt.xlabel('Number of Titles')\n",
    "plt.ylabel('Genre')\n",
    "plt.show()"
   ]
  },
  {
   "cell_type": "code",
   "execution_count": 966,
   "metadata": {},
   "outputs": [
    {
     "name": "stdout",
     "output_type": "stream",
     "text": [
      "the top 10 countries in the dataset are :\n"
     ]
    },
    {
     "data": {
      "text/plain": [
       "country\n",
       "United States     4932\n",
       "India             2623\n",
       "Unknown           1715\n",
       "United Kingdom     915\n",
       "Japan              580\n",
       "South Korea        555\n",
       "Spain              372\n",
       "Canada             330\n",
       "France             303\n",
       "Turkey             278\n",
       "Name: count, dtype: int64"
      ]
     },
     "execution_count": 966,
     "metadata": {},
     "output_type": "execute_result"
    }
   ],
   "source": [
    "# analyzing the top 10 countries in the dataset\n",
    "top_countries = Netflix['country'].value_counts().head(10)\n",
    "print('the top 10 countries in the dataset are :')\n",
    "top_countries"
   ]
  },
  {
   "cell_type": "code",
   "execution_count": 967,
   "metadata": {},
   "outputs": [
    {
     "name": "stderr",
     "output_type": "stream",
     "text": [
      "C:\\Users\\Mohsu\\AppData\\Local\\Temp\\ipykernel_17184\\1864351851.py:4: FutureWarning: \n",
      "\n",
      "Passing `palette` without assigning `hue` is deprecated and will be removed in v0.14.0. Assign the `y` variable to `hue` and set `legend=False` for the same effect.\n",
      "\n",
      "  sns.barplot(x=top_countries, y=top_countries.index, palette='viridis')\n"
     ]
    },
    {
     "data": {
      "image/png": "[encoded data removed]",
      "text/plain": [
       "<Figure size 1000x600 with 1 Axes>"
      ]
     },
     "metadata": {},
     "output_type": "display_data"
    }
   ],
   "source": [
    "# visualizing the top 10 countries on Netflix\n",
    "plt.figure(figsize=(10, 6))\n",
    "sns.set_style('whitegrid')\n",
    "sns.barplot(x=top_countries, y=top_countries.index, palette='viridis')\n",
    "plt.title('Top 10 Countries on Netflix')\n",
    "plt.xlabel('Number of Titles')\n",
    "plt.ylabel('Country')\n",
    "plt.show()"
   ]
  },
  {
   "cell_type": "code",
   "execution_count": 968,
   "metadata": {},
   "outputs": [
    {
     "name": "stdout",
     "output_type": "stream",
     "text": [
      "the number of titles added to Netflix over time are :\n"
     ]
    },
    {
     "data": {
      "text/plain": [
       "year_added\n",
       "2008       4\n",
       "2009       3\n",
       "2010       2\n",
       "2011      19\n",
       "2012       4\n",
       "2013      21\n",
       "2014      34\n",
       "2015     135\n",
       "2016     835\n",
       "2017    2539\n",
       "2018    3624\n",
       "2019    4472\n",
       "2020    4160\n",
       "2021    3268\n",
       "Name: count, dtype: int64"
      ]
     },
     "execution_count": 968,
     "metadata": {},
     "output_type": "execute_result"
    }
   ],
   "source": [
    "# analyzing the number of titles added to Netflix over time\n",
    "titles_added = Netflix['year_added'].value_counts().sort_index()\n",
    "print('the number of titles added to Netflix over time are :')\n",
    "titles_added"
   ]
  },
  {
   "cell_type": "code",
   "execution_count": 969,
   "metadata": {},
   "outputs": [
    {
     "data": {
      "image/png": "[encoded data removed]",
      "text/plain": [
       "<Figure size 1000x600 with 1 Axes>"
      ]
     },
     "metadata": {},
     "output_type": "display_data"
    }
   ],
   "source": [
    "# Trends over time (release year)\n",
    "plt.figure(figsize=(10, 6))\n",
    "sns.set_style('whitegrid')\n",
    "sns.histplot(Netflix['release_year'], kde=True, color='blue')\n",
    "plt.title('Number of Titles Released Over Time')\n",
    "plt.xlabel('Year')\n",
    "plt.ylabel('Number of Titles')\n",
    "plt.show()\n"
   ]
  },
  {
   "cell_type": "code",
   "execution_count": 970,
   "metadata": {},
   "outputs": [
    {
     "name": "stdout",
     "output_type": "stream",
     "text": [
      "the rating distribution across genres are :\n"
     ]
    },
    {
     "data": {
      "text/plain": [
       "rating\n",
       "Adults        8842\n",
       "Teens         6190\n",
       "Older Kids    2994\n",
       "general        518\n",
       "Kids           397\n",
       "Not Rated      179\n",
       "Name: count, dtype: int64"
      ]
     },
     "execution_count": 970,
     "metadata": {},
     "output_type": "execute_result"
    }
   ],
   "source": [
    "# analysing Rating distribution across genres\n",
    "rating = Netflix['rating'].value_counts()\n",
    "print('the rating distribution across genres are :')\n",
    "rating\n"
   ]
  },
  {
   "cell_type": "code",
   "execution_count": 971,
   "metadata": {},
   "outputs": [
    {
     "name": "stderr",
     "output_type": "stream",
     "text": [
      "C:\\Users\\Mohsu\\AppData\\Local\\Temp\\ipykernel_17184\\3651028037.py:4: FutureWarning: \n",
      "\n",
      "Passing `palette` without assigning `hue` is deprecated and will be removed in v0.14.0. Assign the `x` variable to `hue` and set `legend=False` for the same effect.\n",
      "\n",
      "  sns.countplot(x='rating', data=Netflix, palette='viridis', order=Netflix['rating'].value_counts().index)\n"
     ]
    },
    {
     "data": {
      "image/png": "[encoded data removed]",
      "text/plain": [
       "<Figure size 1000x600 with 1 Axes>"
      ]
     },
     "metadata": {},
     "output_type": "display_data"
    }
   ],
   "source": [
    "# Rating distribution across genres\n",
    "plt.figure(figsize=(10, 6))\n",
    "sns.set_style('whitegrid')\n",
    "sns.countplot(x='rating', data=Netflix, palette='viridis', order=Netflix['rating'].value_counts().index)\n",
    "plt.title('Rating Distribution Across Genres')\n",
    "plt.xlabel('Rating')\n",
    "plt.ylabel('Number of Titles')\n",
    "plt.show()\n"
   ]
  },
  {
   "cell_type": "markdown",
   "metadata": {},
   "source": [
    "### Conclusion:\n",
    "- **Content Focus:** Netflix’s primary focus is on movies, with a growing emphasis on global and international content. The increase in the release of movies and international TV shows signals that Netflix is positioning itself to appeal to diverse, global audiences.\n",
    "\n",
    "- **Global Expansion:** While the United States continues to be the primary source of content, the growing presence of countries like India, South Korea, and Japan showcases Netflix’s ongoing effort to strengthen its international catalog.\n",
    "\n",
    "- **Genre Trends:** The popularity of genres such as dramas, comedies, and international movies reflects Netflix’s ability to cater to both Western and global tastes. It also highlights an increasing demand for diverse content across regions , Netflix’s strategy of focusing on diverse age groups, with a strong emphasis on adults, but a clear commitment to expanding content for teens and children as well"
   ]
  }
 ],
 "metadata": {
  "kernelspec": {
   "display_name": "Python 3",
   "language": "python",
   "name": "python3"
  },
  "language_info": {
   "codemirror_mode": {
    "name": "ipython",
    "version": 3
   },
   "file_extension": ".py",
   "mimetype": "text/x-python",
   "name": "python",
   "nbconvert_exporter": "python",
   "pygments_lexer": "ipython3",
   "version": "3.13.2"
  }
 },
 "nbformat": 4,
 "nbformat_minor": 2
}
